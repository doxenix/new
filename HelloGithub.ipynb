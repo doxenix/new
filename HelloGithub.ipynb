{
  "nbformat": 4,
  "nbformat_minor": 0,
  "metadata": {
    "colab": {
      "name": "HelloGithub.ipynb",
      "provenance": [],
      "authorship_tag": "ABX9TyOhIo9FI2bKpLO0lmx6nBtt",
      "include_colab_link": true
    },
    "kernelspec": {
      "name": "python3",
      "display_name": "Python 3"
    }
  },
  "cells": [
    {
      "cell_type": "markdown",
      "metadata": {
        "id": "view-in-github",
        "colab_type": "text"
      },
      "source": [
        "<a href=\"https://colab.research.google.com/github/doxenix/new/blob/main/HelloGithub.ipynb\" target=\"_parent\"><img src=\"https://colab.research.google.com/assets/colab-badge.svg\" alt=\"Open In Colab\"/></a>"
      ]
    },
    {
      "cell_type": "code",
      "metadata": {
        "id": "ajLO240gWB6g"
      },
      "source": [
        "print('Hello')"
      ],
      "execution_count": null,
      "outputs": []
    }
  ]
}